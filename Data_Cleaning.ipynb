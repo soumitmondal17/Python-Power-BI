{
  "nbformat": 4,
  "nbformat_minor": 0,
  "metadata": {
    "colab": {
      "provenance": [],
      "authorship_tag": "ABX9TyOA9w3IBr/Uisk+95Rsa6hC",
      "include_colab_link": true
    },
    "kernelspec": {
      "name": "python3",
      "display_name": "Python 3"
    },
    "language_info": {
      "name": "python"
    }
  },
  "cells": [
    {
      "cell_type": "markdown",
      "metadata": {
        "id": "view-in-github",
        "colab_type": "text"
      },
      "source": [
        "<a href=\"https://colab.research.google.com/github/soumitmondal17/Python-Power-BI/blob/main/Data_Cleaning.ipynb\" target=\"_parent\"><img src=\"https://colab.research.google.com/assets/colab-badge.svg\" alt=\"Open In Colab\"/></a>"
      ]
    },
    {
      "cell_type": "markdown",
      "source": [
        "**Importing required libraries**"
      ],
      "metadata": {
        "id": "giZPU2oKeJim"
      }
    },
    {
      "cell_type": "code",
      "source": [
        "import pandas as pd\n",
        "import numpy as np"
      ],
      "metadata": {
        "id": "N89or2MXXpCw"
      },
      "execution_count": 1,
      "outputs": []
    },
    {
      "cell_type": "markdown",
      "source": [
        "**Defining the file path using Pandas**"
      ],
      "metadata": {
        "id": "lzbihjl1eStk"
      }
    },
    {
      "cell_type": "code",
      "execution_count": 2,
      "metadata": {
        "id": "P2jORlLsVRco"
      },
      "outputs": [],
      "source": [
        "file_path='/content/Dataset Sample.xlsx'\n",
        "df=pd.read_excel(file_path,sheet_name='Candidate Details')"
      ]
    },
    {
      "cell_type": "code",
      "source": [
        "df.head(5)"
      ],
      "metadata": {
        "colab": {
          "base_uri": "https://localhost:8080/",
          "height": 328
        },
        "id": "33GIQ94qVyTL",
        "outputId": "23989f99-e4d0-4be8-919b-3fe337711e1e"
      },
      "execution_count": 3,
      "outputs": [
        {
          "output_type": "execute_result",
          "data": {
            "text/plain": [
              "   Candidate ID Date of Birth Justification Location Candidate Name   HR ID  \\\n",
              "0      297712.0    1984-10-26  New Position    SURAT        Varunan  703038   \n",
              "1      856925.0    1999-08-18  New Position     PUNE          Satya  703038   \n",
              "2      304686.0    1990-07-04  New Position     PUNE              C  710064   \n",
              "3      782886.0    1993-06-10  New Position     PUNE            Aby  700204   \n",
              "4      967264.0    1981-03-26  New Position   MUMBAI          Nitin  710064   \n",
              "\n",
              "  Offer Release Date Date of Joining Candidate Status Level Final Channel  \n",
              "0         2024-04-21      2024-05-06           Joined    I5        HEALTH  \n",
              "1         2024-01-27      2024-03-07           Joined    I5        HEALTH  \n",
              "2         2024-11-20      2024-12-21           Joined    I5      ACCOUNTS  \n",
              "3         2024-01-18      2024-03-04           Joined    I5     CORPORATE  \n",
              "4         2024-09-25      2024-10-16           Joined    I5      ACCOUNTS  "
            ],
            "text/html": [
              "\n",
              "  <div id=\"df-ddfe4ba1-7e33-4634-aebd-2e85b38b5fa8\" class=\"colab-df-container\">\n",
              "    <div>\n",
              "<style scoped>\n",
              "    .dataframe tbody tr th:only-of-type {\n",
              "        vertical-align: middle;\n",
              "    }\n",
              "\n",
              "    .dataframe tbody tr th {\n",
              "        vertical-align: top;\n",
              "    }\n",
              "\n",
              "    .dataframe thead th {\n",
              "        text-align: right;\n",
              "    }\n",
              "</style>\n",
              "<table border=\"1\" class=\"dataframe\">\n",
              "  <thead>\n",
              "    <tr style=\"text-align: right;\">\n",
              "      <th></th>\n",
              "      <th>Candidate ID</th>\n",
              "      <th>Date of Birth</th>\n",
              "      <th>Justification</th>\n",
              "      <th>Location</th>\n",
              "      <th>Candidate Name</th>\n",
              "      <th>HR ID</th>\n",
              "      <th>Offer Release Date</th>\n",
              "      <th>Date of Joining</th>\n",
              "      <th>Candidate Status</th>\n",
              "      <th>Level</th>\n",
              "      <th>Final Channel</th>\n",
              "    </tr>\n",
              "  </thead>\n",
              "  <tbody>\n",
              "    <tr>\n",
              "      <th>0</th>\n",
              "      <td>297712.0</td>\n",
              "      <td>1984-10-26</td>\n",
              "      <td>New Position</td>\n",
              "      <td>SURAT</td>\n",
              "      <td>Varunan</td>\n",
              "      <td>703038</td>\n",
              "      <td>2024-04-21</td>\n",
              "      <td>2024-05-06</td>\n",
              "      <td>Joined</td>\n",
              "      <td>I5</td>\n",
              "      <td>HEALTH</td>\n",
              "    </tr>\n",
              "    <tr>\n",
              "      <th>1</th>\n",
              "      <td>856925.0</td>\n",
              "      <td>1999-08-18</td>\n",
              "      <td>New Position</td>\n",
              "      <td>PUNE</td>\n",
              "      <td>Satya</td>\n",
              "      <td>703038</td>\n",
              "      <td>2024-01-27</td>\n",
              "      <td>2024-03-07</td>\n",
              "      <td>Joined</td>\n",
              "      <td>I5</td>\n",
              "      <td>HEALTH</td>\n",
              "    </tr>\n",
              "    <tr>\n",
              "      <th>2</th>\n",
              "      <td>304686.0</td>\n",
              "      <td>1990-07-04</td>\n",
              "      <td>New Position</td>\n",
              "      <td>PUNE</td>\n",
              "      <td>C</td>\n",
              "      <td>710064</td>\n",
              "      <td>2024-11-20</td>\n",
              "      <td>2024-12-21</td>\n",
              "      <td>Joined</td>\n",
              "      <td>I5</td>\n",
              "      <td>ACCOUNTS</td>\n",
              "    </tr>\n",
              "    <tr>\n",
              "      <th>3</th>\n",
              "      <td>782886.0</td>\n",
              "      <td>1993-06-10</td>\n",
              "      <td>New Position</td>\n",
              "      <td>PUNE</td>\n",
              "      <td>Aby</td>\n",
              "      <td>700204</td>\n",
              "      <td>2024-01-18</td>\n",
              "      <td>2024-03-04</td>\n",
              "      <td>Joined</td>\n",
              "      <td>I5</td>\n",
              "      <td>CORPORATE</td>\n",
              "    </tr>\n",
              "    <tr>\n",
              "      <th>4</th>\n",
              "      <td>967264.0</td>\n",
              "      <td>1981-03-26</td>\n",
              "      <td>New Position</td>\n",
              "      <td>MUMBAI</td>\n",
              "      <td>Nitin</td>\n",
              "      <td>710064</td>\n",
              "      <td>2024-09-25</td>\n",
              "      <td>2024-10-16</td>\n",
              "      <td>Joined</td>\n",
              "      <td>I5</td>\n",
              "      <td>ACCOUNTS</td>\n",
              "    </tr>\n",
              "  </tbody>\n",
              "</table>\n",
              "</div>\n",
              "    <div class=\"colab-df-buttons\">\n",
              "\n",
              "  <div class=\"colab-df-container\">\n",
              "    <button class=\"colab-df-convert\" onclick=\"convertToInteractive('df-ddfe4ba1-7e33-4634-aebd-2e85b38b5fa8')\"\n",
              "            title=\"Convert this dataframe to an interactive table.\"\n",
              "            style=\"display:none;\">\n",
              "\n",
              "  <svg xmlns=\"http://www.w3.org/2000/svg\" height=\"24px\" viewBox=\"0 -960 960 960\">\n",
              "    <path d=\"M120-120v-720h720v720H120Zm60-500h600v-160H180v160Zm220 220h160v-160H400v160Zm0 220h160v-160H400v160ZM180-400h160v-160H180v160Zm440 0h160v-160H620v160ZM180-180h160v-160H180v160Zm440 0h160v-160H620v160Z\"/>\n",
              "  </svg>\n",
              "    </button>\n",
              "\n",
              "  <style>\n",
              "    .colab-df-container {\n",
              "      display:flex;\n",
              "      gap: 12px;\n",
              "    }\n",
              "\n",
              "    .colab-df-convert {\n",
              "      background-color: #E8F0FE;\n",
              "      border: none;\n",
              "      border-radius: 50%;\n",
              "      cursor: pointer;\n",
              "      display: none;\n",
              "      fill: #1967D2;\n",
              "      height: 32px;\n",
              "      padding: 0 0 0 0;\n",
              "      width: 32px;\n",
              "    }\n",
              "\n",
              "    .colab-df-convert:hover {\n",
              "      background-color: #E2EBFA;\n",
              "      box-shadow: 0px 1px 2px rgba(60, 64, 67, 0.3), 0px 1px 3px 1px rgba(60, 64, 67, 0.15);\n",
              "      fill: #174EA6;\n",
              "    }\n",
              "\n",
              "    .colab-df-buttons div {\n",
              "      margin-bottom: 4px;\n",
              "    }\n",
              "\n",
              "    [theme=dark] .colab-df-convert {\n",
              "      background-color: #3B4455;\n",
              "      fill: #D2E3FC;\n",
              "    }\n",
              "\n",
              "    [theme=dark] .colab-df-convert:hover {\n",
              "      background-color: #434B5C;\n",
              "      box-shadow: 0px 1px 3px 1px rgba(0, 0, 0, 0.15);\n",
              "      filter: drop-shadow(0px 1px 2px rgba(0, 0, 0, 0.3));\n",
              "      fill: #FFFFFF;\n",
              "    }\n",
              "  </style>\n",
              "\n",
              "    <script>\n",
              "      const buttonEl =\n",
              "        document.querySelector('#df-ddfe4ba1-7e33-4634-aebd-2e85b38b5fa8 button.colab-df-convert');\n",
              "      buttonEl.style.display =\n",
              "        google.colab.kernel.accessAllowed ? 'block' : 'none';\n",
              "\n",
              "      async function convertToInteractive(key) {\n",
              "        const element = document.querySelector('#df-ddfe4ba1-7e33-4634-aebd-2e85b38b5fa8');\n",
              "        const dataTable =\n",
              "          await google.colab.kernel.invokeFunction('convertToInteractive',\n",
              "                                                    [key], {});\n",
              "        if (!dataTable) return;\n",
              "\n",
              "        const docLinkHtml = 'Like what you see? Visit the ' +\n",
              "          '<a target=\"_blank\" href=https://colab.research.google.com/notebooks/data_table.ipynb>data table notebook</a>'\n",
              "          + ' to learn more about interactive tables.';\n",
              "        element.innerHTML = '';\n",
              "        dataTable['output_type'] = 'display_data';\n",
              "        await google.colab.output.renderOutput(dataTable, element);\n",
              "        const docLink = document.createElement('div');\n",
              "        docLink.innerHTML = docLinkHtml;\n",
              "        element.appendChild(docLink);\n",
              "      }\n",
              "    </script>\n",
              "  </div>\n",
              "\n",
              "\n",
              "    <div id=\"df-d909a934-967d-4525-84cd-848a612ca280\">\n",
              "      <button class=\"colab-df-quickchart\" onclick=\"quickchart('df-d909a934-967d-4525-84cd-848a612ca280')\"\n",
              "                title=\"Suggest charts\"\n",
              "                style=\"display:none;\">\n",
              "\n",
              "<svg xmlns=\"http://www.w3.org/2000/svg\" height=\"24px\"viewBox=\"0 0 24 24\"\n",
              "     width=\"24px\">\n",
              "    <g>\n",
              "        <path d=\"M19 3H5c-1.1 0-2 .9-2 2v14c0 1.1.9 2 2 2h14c1.1 0 2-.9 2-2V5c0-1.1-.9-2-2-2zM9 17H7v-7h2v7zm4 0h-2V7h2v10zm4 0h-2v-4h2v4z\"/>\n",
              "    </g>\n",
              "</svg>\n",
              "      </button>\n",
              "\n",
              "<style>\n",
              "  .colab-df-quickchart {\n",
              "      --bg-color: #E8F0FE;\n",
              "      --fill-color: #1967D2;\n",
              "      --hover-bg-color: #E2EBFA;\n",
              "      --hover-fill-color: #174EA6;\n",
              "      --disabled-fill-color: #AAA;\n",
              "      --disabled-bg-color: #DDD;\n",
              "  }\n",
              "\n",
              "  [theme=dark] .colab-df-quickchart {\n",
              "      --bg-color: #3B4455;\n",
              "      --fill-color: #D2E3FC;\n",
              "      --hover-bg-color: #434B5C;\n",
              "      --hover-fill-color: #FFFFFF;\n",
              "      --disabled-bg-color: #3B4455;\n",
              "      --disabled-fill-color: #666;\n",
              "  }\n",
              "\n",
              "  .colab-df-quickchart {\n",
              "    background-color: var(--bg-color);\n",
              "    border: none;\n",
              "    border-radius: 50%;\n",
              "    cursor: pointer;\n",
              "    display: none;\n",
              "    fill: var(--fill-color);\n",
              "    height: 32px;\n",
              "    padding: 0;\n",
              "    width: 32px;\n",
              "  }\n",
              "\n",
              "  .colab-df-quickchart:hover {\n",
              "    background-color: var(--hover-bg-color);\n",
              "    box-shadow: 0 1px 2px rgba(60, 64, 67, 0.3), 0 1px 3px 1px rgba(60, 64, 67, 0.15);\n",
              "    fill: var(--button-hover-fill-color);\n",
              "  }\n",
              "\n",
              "  .colab-df-quickchart-complete:disabled,\n",
              "  .colab-df-quickchart-complete:disabled:hover {\n",
              "    background-color: var(--disabled-bg-color);\n",
              "    fill: var(--disabled-fill-color);\n",
              "    box-shadow: none;\n",
              "  }\n",
              "\n",
              "  .colab-df-spinner {\n",
              "    border: 2px solid var(--fill-color);\n",
              "    border-color: transparent;\n",
              "    border-bottom-color: var(--fill-color);\n",
              "    animation:\n",
              "      spin 1s steps(1) infinite;\n",
              "  }\n",
              "\n",
              "  @keyframes spin {\n",
              "    0% {\n",
              "      border-color: transparent;\n",
              "      border-bottom-color: var(--fill-color);\n",
              "      border-left-color: var(--fill-color);\n",
              "    }\n",
              "    20% {\n",
              "      border-color: transparent;\n",
              "      border-left-color: var(--fill-color);\n",
              "      border-top-color: var(--fill-color);\n",
              "    }\n",
              "    30% {\n",
              "      border-color: transparent;\n",
              "      border-left-color: var(--fill-color);\n",
              "      border-top-color: var(--fill-color);\n",
              "      border-right-color: var(--fill-color);\n",
              "    }\n",
              "    40% {\n",
              "      border-color: transparent;\n",
              "      border-right-color: var(--fill-color);\n",
              "      border-top-color: var(--fill-color);\n",
              "    }\n",
              "    60% {\n",
              "      border-color: transparent;\n",
              "      border-right-color: var(--fill-color);\n",
              "    }\n",
              "    80% {\n",
              "      border-color: transparent;\n",
              "      border-right-color: var(--fill-color);\n",
              "      border-bottom-color: var(--fill-color);\n",
              "    }\n",
              "    90% {\n",
              "      border-color: transparent;\n",
              "      border-bottom-color: var(--fill-color);\n",
              "    }\n",
              "  }\n",
              "</style>\n",
              "\n",
              "      <script>\n",
              "        async function quickchart(key) {\n",
              "          const quickchartButtonEl =\n",
              "            document.querySelector('#' + key + ' button');\n",
              "          quickchartButtonEl.disabled = true;  // To prevent multiple clicks.\n",
              "          quickchartButtonEl.classList.add('colab-df-spinner');\n",
              "          try {\n",
              "            const charts = await google.colab.kernel.invokeFunction(\n",
              "                'suggestCharts', [key], {});\n",
              "          } catch (error) {\n",
              "            console.error('Error during call to suggestCharts:', error);\n",
              "          }\n",
              "          quickchartButtonEl.classList.remove('colab-df-spinner');\n",
              "          quickchartButtonEl.classList.add('colab-df-quickchart-complete');\n",
              "        }\n",
              "        (() => {\n",
              "          let quickchartButtonEl =\n",
              "            document.querySelector('#df-d909a934-967d-4525-84cd-848a612ca280 button');\n",
              "          quickchartButtonEl.style.display =\n",
              "            google.colab.kernel.accessAllowed ? 'block' : 'none';\n",
              "        })();\n",
              "      </script>\n",
              "    </div>\n",
              "\n",
              "    </div>\n",
              "  </div>\n"
            ],
            "application/vnd.google.colaboratory.intrinsic+json": {
              "type": "dataframe",
              "variable_name": "df",
              "summary": "{\n  \"name\": \"df\",\n  \"rows\": 291,\n  \"fields\": [\n    {\n      \"column\": \"Candidate ID\",\n      \"properties\": {\n        \"dtype\": \"number\",\n        \"std\": 263322.9032365377,\n        \"min\": 104620.0,\n        \"max\": 997468.0,\n        \"num_unique_values\": 280,\n        \"samples\": [\n          377786.0,\n          519480.0,\n          164709.0\n        ],\n        \"semantic_type\": \"\",\n        \"description\": \"\"\n      }\n    },\n    {\n      \"column\": \"Date of Birth\",\n      \"properties\": {\n        \"dtype\": \"date\",\n        \"min\": \"1963-07-30 00:00:00\",\n        \"max\": \"2024-05-26 00:00:00\",\n        \"num_unique_values\": 167,\n        \"samples\": [\n          \"1990-09-09 00:00:00\",\n          \"1974-03-25 00:00:00\",\n          \"1989-10-21 00:00:00\"\n        ],\n        \"semantic_type\": \"\",\n        \"description\": \"\"\n      }\n    },\n    {\n      \"column\": \"Justification\",\n      \"properties\": {\n        \"dtype\": \"category\",\n        \"num_unique_values\": 2,\n        \"samples\": [\n          \"Replacement\",\n          \"New Position\"\n        ],\n        \"semantic_type\": \"\",\n        \"description\": \"\"\n      }\n    },\n    {\n      \"column\": \"Location\",\n      \"properties\": {\n        \"dtype\": \"category\",\n        \"num_unique_values\": 9,\n        \"samples\": [\n          \"VARANASI\",\n          \"PUNE\"\n        ],\n        \"semantic_type\": \"\",\n        \"description\": \"\"\n      }\n    },\n    {\n      \"column\": \"Candidate Name\",\n      \"properties\": {\n        \"dtype\": \"string\",\n        \"num_unique_values\": 232,\n        \"samples\": [\n          \"Muskan\",\n          \"Sandya\"\n        ],\n        \"semantic_type\": \"\",\n        \"description\": \"\"\n      }\n    },\n    {\n      \"column\": \"HR ID\",\n      \"properties\": {\n        \"dtype\": \"number\",\n        \"std\": 3458,\n        \"min\": 700204,\n        \"max\": 710141,\n        \"num_unique_values\": 8,\n        \"samples\": [\n          710064,\n          710141\n        ],\n        \"semantic_type\": \"\",\n        \"description\": \"\"\n      }\n    },\n    {\n      \"column\": \"Offer Release Date\",\n      \"properties\": {\n        \"dtype\": \"date\",\n        \"min\": \"2023-05-09 00:00:00\",\n        \"max\": \"2024-11-25 00:00:00\",\n        \"num_unique_values\": 171,\n        \"samples\": [\n          \"2024-02-02 00:00:00\",\n          \"2024-05-03 00:00:00\"\n        ],\n        \"semantic_type\": \"\",\n        \"description\": \"\"\n      }\n    },\n    {\n      \"column\": \"Date of Joining\",\n      \"properties\": {\n        \"dtype\": \"date\",\n        \"min\": \"2023-05-16 00:00:00\",\n        \"max\": \"2025-02-20 00:00:00\",\n        \"num_unique_values\": 105,\n        \"samples\": [\n          \"2024-12-02 00:00:00\",\n          \"2023-09-14 00:00:00\"\n        ],\n        \"semantic_type\": \"\",\n        \"description\": \"\"\n      }\n    },\n    {\n      \"column\": \"Candidate Status\",\n      \"properties\": {\n        \"dtype\": \"category\",\n        \"num_unique_values\": 2,\n        \"samples\": [\n          \"Live Offer\",\n          \"Joined\"\n        ],\n        \"semantic_type\": \"\",\n        \"description\": \"\"\n      }\n    },\n    {\n      \"column\": \"Level\",\n      \"properties\": {\n        \"dtype\": \"category\",\n        \"num_unique_values\": 5,\n        \"samples\": [\n          \"I2\",\n          \"I1\"\n        ],\n        \"semantic_type\": \"\",\n        \"description\": \"\"\n      }\n    },\n    {\n      \"column\": \"Final Channel\",\n      \"properties\": {\n        \"dtype\": \"category\",\n        \"num_unique_values\": 9,\n        \"samples\": [\n          \"TWO WHEELER\",\n          \"ACCOUNTS\"\n        ],\n        \"semantic_type\": \"\",\n        \"description\": \"\"\n      }\n    }\n  ]\n}"
            }
          },
          "metadata": {},
          "execution_count": 3
        }
      ]
    },
    {
      "cell_type": "markdown",
      "source": [
        "**Checking for missing values column by column**"
      ],
      "metadata": {
        "id": "UQAC1XE3eiAD"
      }
    },
    {
      "cell_type": "code",
      "source": [
        "missing_data=df.isnull()\n",
        "for col in missing_data.columns.to_list():\n",
        "  print(missing_data[col].value_counts())\n",
        "  print(' ')"
      ],
      "metadata": {
        "colab": {
          "base_uri": "https://localhost:8080/"
        },
        "id": "I6nlTlIUV2C_",
        "outputId": "9ccbba72-d283-4f46-f31e-33c34fb7c668"
      },
      "execution_count": 4,
      "outputs": [
        {
          "output_type": "stream",
          "name": "stdout",
          "text": [
            "Candidate ID\n",
            "False    287\n",
            "True       4\n",
            "Name: count, dtype: int64\n",
            " \n",
            "Date of Birth\n",
            "False    291\n",
            "Name: count, dtype: int64\n",
            " \n",
            "Justification\n",
            "False    291\n",
            "Name: count, dtype: int64\n",
            " \n",
            "Location\n",
            "False    291\n",
            "Name: count, dtype: int64\n",
            " \n",
            "Candidate Name\n",
            "False    291\n",
            "Name: count, dtype: int64\n",
            " \n",
            "HR ID\n",
            "False    291\n",
            "Name: count, dtype: int64\n",
            " \n",
            "Offer Release Date\n",
            "False    291\n",
            "Name: count, dtype: int64\n",
            " \n",
            "Date of Joining\n",
            "False    291\n",
            "Name: count, dtype: int64\n",
            " \n",
            "Candidate Status\n",
            "False    291\n",
            "Name: count, dtype: int64\n",
            " \n",
            "Level\n",
            "False    291\n",
            "Name: count, dtype: int64\n",
            " \n",
            "Final Channel\n",
            "False    291\n",
            "Name: count, dtype: int64\n",
            " \n"
          ]
        }
      ]
    },
    {
      "cell_type": "markdown",
      "source": [
        "**Creating a function that will generate a random Candidate ID**"
      ],
      "metadata": {
        "id": "Xo3Q59KmeraM"
      }
    },
    {
      "cell_type": "code",
      "source": [
        "def generate_4_digit():\n",
        "  return np.random.randint(1000,9999)\n",
        "#Replacing the missing Candidate IDs with random digits.\n",
        "df['Candidate ID']=df['Candidate ID'].apply(lambda x:generate_4_digit() if pd.isna(x) else x )"
      ],
      "metadata": {
        "id": "FYiSiUUBWN8t"
      },
      "execution_count": 5,
      "outputs": []
    },
    {
      "cell_type": "markdown",
      "source": [
        "**Validating if the above code was executed succesfully or not**"
      ],
      "metadata": {
        "id": "iO67P7LkfHVe"
      }
    },
    {
      "cell_type": "code",
      "source": [
        "print(df['Candidate ID'].isnull().sum())"
      ],
      "metadata": {
        "colab": {
          "base_uri": "https://localhost:8080/"
        },
        "id": "TGxLHrjLYh40",
        "outputId": "badde442-d712-46e0-fd62-d13844efa635"
      },
      "execution_count": 6,
      "outputs": [
        {
          "output_type": "stream",
          "name": "stdout",
          "text": [
            "0\n"
          ]
        }
      ]
    },
    {
      "cell_type": "markdown",
      "source": [
        "**Exploratory Data Analysis**"
      ],
      "metadata": {
        "id": "R_fIqg2dfS47"
      }
    },
    {
      "cell_type": "code",
      "source": [
        "df.info()"
      ],
      "metadata": {
        "colab": {
          "base_uri": "https://localhost:8080/"
        },
        "id": "iYE6pIQEYvI3",
        "outputId": "70f10b53-2153-4395-8d7e-23a0a4ee9203"
      },
      "execution_count": 7,
      "outputs": [
        {
          "output_type": "stream",
          "name": "stdout",
          "text": [
            "<class 'pandas.core.frame.DataFrame'>\n",
            "RangeIndex: 291 entries, 0 to 290\n",
            "Data columns (total 11 columns):\n",
            " #   Column              Non-Null Count  Dtype         \n",
            "---  ------              --------------  -----         \n",
            " 0   Candidate ID        291 non-null    float64       \n",
            " 1   Date of Birth       291 non-null    datetime64[ns]\n",
            " 2   Justification       291 non-null    object        \n",
            " 3   Location            291 non-null    object        \n",
            " 4   Candidate Name      291 non-null    object        \n",
            " 5   HR ID               291 non-null    int64         \n",
            " 6   Offer Release Date  291 non-null    datetime64[ns]\n",
            " 7   Date of Joining     291 non-null    datetime64[ns]\n",
            " 8   Candidate Status    291 non-null    object        \n",
            " 9   Level               291 non-null    object        \n",
            " 10  Final Channel       291 non-null    object        \n",
            "dtypes: datetime64[ns](3), float64(1), int64(1), object(6)\n",
            "memory usage: 25.1+ KB\n"
          ]
        }
      ]
    },
    {
      "cell_type": "markdown",
      "source": [
        "**Checking for duplicate values**"
      ],
      "metadata": {
        "id": "msK4GGFdfogc"
      }
    },
    {
      "cell_type": "code",
      "source": [
        "duplicates=df[df.duplicated(subset='Candidate ID')]\n",
        "print(f'Total duplicated rows in Candidate ID column = {duplicates.shape[0]} ')"
      ],
      "metadata": {
        "colab": {
          "base_uri": "https://localhost:8080/"
        },
        "id": "L6ar2ysqsD4Q",
        "outputId": "32d3b428-6fbe-4d14-b845-f0fdf2fc5c0e"
      },
      "execution_count": 8,
      "outputs": [
        {
          "output_type": "stream",
          "name": "stdout",
          "text": [
            "Total duplicated rows in Candidate ID column = 7 \n"
          ]
        }
      ]
    },
    {
      "cell_type": "markdown",
      "source": [
        "**Dropping duplicate values**"
      ],
      "metadata": {
        "id": "Xpsvr7tjfvlj"
      }
    },
    {
      "cell_type": "code",
      "source": [
        "df.drop_duplicates(subset='Candidate ID',inplace=True)"
      ],
      "metadata": {
        "id": "QvUx8169tCUB"
      },
      "execution_count": 9,
      "outputs": []
    },
    {
      "cell_type": "markdown",
      "source": [
        "**Validating if the above code was executed succesfully or not**"
      ],
      "metadata": {
        "id": "Kcc2H7Fqf63K"
      }
    },
    {
      "cell_type": "code",
      "source": [
        "duplicates=df[df.duplicated(subset='Candidate ID')]\n",
        "print(f'Total duplicated rows in Candidate ID column = {duplicates.shape[0]} ')"
      ],
      "metadata": {
        "colab": {
          "base_uri": "https://localhost:8080/"
        },
        "id": "rljw94fpvSH0",
        "outputId": "7082c042-98bc-40a6-80e9-fc93952ea7be"
      },
      "execution_count": 10,
      "outputs": [
        {
          "output_type": "stream",
          "name": "stdout",
          "text": [
            "Total duplicated rows in Candidate ID column = 0 \n"
          ]
        }
      ]
    },
    {
      "cell_type": "markdown",
      "source": [
        "**Saving the file for further analysis**"
      ],
      "metadata": {
        "id": "oaSE-qidf95M"
      }
    },
    {
      "cell_type": "code",
      "source": [
        "df.to_excel('HR Analysis_RGI.xlsx',index=False)"
      ],
      "metadata": {
        "id": "zO4BSIbZvWiW"
      },
      "execution_count": 12,
      "outputs": []
    },
    {
      "cell_type": "code",
      "source": [],
      "metadata": {
        "id": "eMSNEHZAwGK1"
      },
      "execution_count": 11,
      "outputs": []
    }
  ]
}